{
 "cells": [
  {
   "cell_type": "code",
   "execution_count": 1,
   "id": "218bdd11",
   "metadata": {},
   "outputs": [
    {
     "name": "stdout",
     "output_type": "stream",
     "text": [
      "Ahmed esam Eldin younis\n"
     ]
    }
   ],
   "source": [
    "print('Ahmed esam Eldin younis')\n"
   ]
  },
  {
   "cell_type": "code",
   "execution_count": 2,
   "id": "64cd5132",
   "metadata": {},
   "outputs": [
    {
     "name": "stdout",
     "output_type": "stream",
     "text": [
      "Ahmed\n",
      "24\n"
     ]
    }
   ],
   "source": [
    "name = 'Ahmed'\n",
    "age = 24\n",
    "print(name)\n",
    "print(age)"
   ]
  },
  {
   "cell_type": "code",
   "execution_count": 3,
   "id": "3f911c01",
   "metadata": {},
   "outputs": [
    {
     "data": {
      "text/plain": [
       "'Ahmed'"
      ]
     },
     "execution_count": 3,
     "metadata": {},
     "output_type": "execute_result"
    }
   ],
   "source": [
    "name"
   ]
  },
  {
   "cell_type": "code",
   "execution_count": 4,
   "id": "9dc4cd74",
   "metadata": {},
   "outputs": [
    {
     "data": {
      "text/plain": [
       "24"
      ]
     },
     "execution_count": 4,
     "metadata": {},
     "output_type": "execute_result"
    }
   ],
   "source": [
    "age"
   ]
  },
  {
   "cell_type": "code",
   "execution_count": 5,
   "id": "7771c1e8",
   "metadata": {},
   "outputs": [
    {
     "name": "stdout",
     "output_type": "stream",
     "text": [
      "good\n"
     ]
    }
   ],
   "source": [
    "grade = 50\n",
    "\n",
    "if grade > 25:\n",
    "    print('good')\n",
    "elif grade == 25:\n",
    "    print('pass')\n",
    "else:\n",
    "    print('Fail')\n"
   ]
  },
  {
   "cell_type": "code",
   "execution_count": 6,
   "id": "f8ef1e28",
   "metadata": {},
   "outputs": [
    {
     "data": {
      "text/plain": [
       "'Ahmed'"
      ]
     },
     "execution_count": 6,
     "metadata": {},
     "output_type": "execute_result"
    }
   ],
   "source": [
    "my_name = ['Ahmed', 'esam', 'Eldin', 'younis']\n",
    "my_name[0]"
   ]
  },
  {
   "cell_type": "code",
   "execution_count": 7,
   "id": "43293b7f",
   "metadata": {},
   "outputs": [
    {
     "data": {
      "text/plain": [
       "'esam'"
      ]
     },
     "execution_count": 7,
     "metadata": {},
     "output_type": "execute_result"
    }
   ],
   "source": [
    "my_name[1]"
   ]
  },
  {
   "cell_type": "code",
   "execution_count": 8,
   "id": "900e217d",
   "metadata": {},
   "outputs": [
    {
     "data": {
      "text/plain": [
       "'Eldin'"
      ]
     },
     "execution_count": 8,
     "metadata": {},
     "output_type": "execute_result"
    }
   ],
   "source": [
    "my_name[2]"
   ]
  },
  {
   "cell_type": "code",
   "execution_count": 9,
   "id": "64fa2bff",
   "metadata": {},
   "outputs": [
    {
     "data": {
      "text/plain": [
       "'younis'"
      ]
     },
     "execution_count": 9,
     "metadata": {},
     "output_type": "execute_result"
    }
   ],
   "source": [
    "my_name[3]"
   ]
  },
  {
   "cell_type": "code",
   "execution_count": 10,
   "id": "ae87125e",
   "metadata": {},
   "outputs": [
    {
     "data": {
      "text/plain": [
       "'younis'"
      ]
     },
     "execution_count": 10,
     "metadata": {},
     "output_type": "execute_result"
    }
   ],
   "source": [
    "my_name[3]"
   ]
  },
  {
   "cell_type": "code",
   "execution_count": 11,
   "id": "2178e0ef",
   "metadata": {},
   "outputs": [
    {
     "data": {
      "text/plain": [
       "['Ahmed', 'esam', 'Eldin', 'younis']"
      ]
     },
     "execution_count": 11,
     "metadata": {},
     "output_type": "execute_result"
    }
   ],
   "source": [
    "my_name[0:4]"
   ]
  },
  {
   "cell_type": "code",
   "execution_count": 12,
   "id": "af55184d",
   "metadata": {},
   "outputs": [
    {
     "data": {
      "text/plain": [
       "['Ahmed', 'esam', 'Eldin']"
      ]
     },
     "execution_count": 12,
     "metadata": {},
     "output_type": "execute_result"
    }
   ],
   "source": [
    "my_name[:3]"
   ]
  },
  {
   "cell_type": "code",
   "execution_count": 13,
   "id": "f6a85c06",
   "metadata": {},
   "outputs": [
    {
     "data": {
      "text/plain": [
       "['Ahmed', 'esam', 'Eldin', 'younis']"
      ]
     },
     "execution_count": 13,
     "metadata": {},
     "output_type": "execute_result"
    }
   ],
   "source": [
    "my_name[0:]"
   ]
  },
  {
   "cell_type": "code",
   "execution_count": 14,
   "id": "3e921455",
   "metadata": {},
   "outputs": [
    {
     "data": {
      "text/plain": [
       "['Ahmed', 'esam', 'Eldin', 'younis']"
      ]
     },
     "execution_count": 14,
     "metadata": {},
     "output_type": "execute_result"
    }
   ],
   "source": [
    "my_name[:4]"
   ]
  },
  {
   "cell_type": "code",
   "execution_count": 15,
   "id": "5b843736",
   "metadata": {},
   "outputs": [
    {
     "data": {
      "text/plain": [
       "['Ahmed', 'esam', 'Eldin', 'younis']"
      ]
     },
     "execution_count": 15,
     "metadata": {},
     "output_type": "execute_result"
    }
   ],
   "source": [
    "my_name"
   ]
  },
  {
   "cell_type": "code",
   "execution_count": 16,
   "id": "f79c0ddd",
   "metadata": {},
   "outputs": [],
   "source": [
    "my_name.append('task1')"
   ]
  },
  {
   "cell_type": "code",
   "execution_count": 17,
   "id": "04ab3367",
   "metadata": {},
   "outputs": [
    {
     "data": {
      "text/plain": [
       "['Ahmed', 'esam', 'Eldin', 'younis', 'task1']"
      ]
     },
     "execution_count": 17,
     "metadata": {},
     "output_type": "execute_result"
    }
   ],
   "source": [
    "my_name"
   ]
  },
  {
   "cell_type": "code",
   "execution_count": 18,
   "id": "35afc36b",
   "metadata": {},
   "outputs": [
    {
     "data": {
      "text/plain": [
       "['Ahmed', 'esam', 'Eldin', 'younis', 'social', 'task1']"
      ]
     },
     "execution_count": 18,
     "metadata": {},
     "output_type": "execute_result"
    }
   ],
   "source": [
    "my_name.insert(4,'social')\n",
    "my_name"
   ]
  },
  {
   "cell_type": "code",
   "execution_count": 19,
   "id": "635921cf",
   "metadata": {},
   "outputs": [
    {
     "data": {
      "text/plain": [
       "['Ahmed', 'esam', 'Eldin', 'younis', 'task1']"
      ]
     },
     "execution_count": 19,
     "metadata": {},
     "output_type": "execute_result"
    }
   ],
   "source": [
    "del my_name[4]\n",
    "my_name"
   ]
  },
  {
   "cell_type": "code",
   "execution_count": 20,
   "id": "abd3a8dc",
   "metadata": {},
   "outputs": [
    {
     "name": "stdout",
     "output_type": "stream",
     "text": [
      "Hello Ahmed!\n",
      "Hello esam!\n",
      "Hello Eldin!\n",
      "Hello younis!\n",
      "Hello social!\n",
      "Hello task1!\n"
     ]
    }
   ],
   "source": [
    "my_name = ['Ahmed', 'esam', 'Eldin', 'younis', 'social', 'task1']\n",
    "\n",
    "for n in my_name:\n",
    "    print('Hello ' + n + '!')"
   ]
  },
  {
   "cell_type": "code",
   "execution_count": 21,
   "id": "e0a340ca",
   "metadata": {},
   "outputs": [
    {
     "data": {
      "text/plain": [
       "[]"
      ]
     },
     "execution_count": 21,
     "metadata": {},
     "output_type": "execute_result"
    }
   ],
   "source": [
    "empty = []\n",
    "for n in my_name:\n",
    "    if len(n) > 6:\n",
    "        empty.append(n)\n",
    "\n",
    "empty"
   ]
  },
  {
   "cell_type": "code",
   "execution_count": 22,
   "id": "8593887c",
   "metadata": {},
   "outputs": [
    {
     "data": {
      "text/plain": [
       "[('Ahmed', 'Ahmed'),\n",
       " ('Ahmed', 'esam'),\n",
       " ('Ahmed', 'Eldin'),\n",
       " ('Ahmed', 'younis'),\n",
       " ('Ahmed', 'social'),\n",
       " ('Ahmed', 'task1'),\n",
       " ('esam', 'Ahmed'),\n",
       " ('esam', 'esam'),\n",
       " ('esam', 'Eldin'),\n",
       " ('esam', 'younis'),\n",
       " ('esam', 'social'),\n",
       " ('esam', 'task1'),\n",
       " ('Eldin', 'Ahmed'),\n",
       " ('Eldin', 'esam'),\n",
       " ('Eldin', 'Eldin'),\n",
       " ('Eldin', 'younis'),\n",
       " ('Eldin', 'social'),\n",
       " ('Eldin', 'task1'),\n",
       " ('younis', 'Ahmed'),\n",
       " ('younis', 'esam'),\n",
       " ('younis', 'Eldin'),\n",
       " ('younis', 'younis'),\n",
       " ('younis', 'social'),\n",
       " ('younis', 'task1'),\n",
       " ('social', 'Ahmed'),\n",
       " ('social', 'esam'),\n",
       " ('social', 'Eldin'),\n",
       " ('social', 'younis'),\n",
       " ('social', 'social'),\n",
       " ('social', 'task1'),\n",
       " ('task1', 'Ahmed'),\n",
       " ('task1', 'esam'),\n",
       " ('task1', 'Eldin'),\n",
       " ('task1', 'younis'),\n",
       " ('task1', 'social'),\n",
       " ('task1', 'task1')]"
      ]
     },
     "execution_count": 22,
     "metadata": {},
     "output_type": "execute_result"
    }
   ],
   "source": [
    "my_name = ['Ahmed', 'esam', 'Eldin', 'younis', 'social', 'task1']\n",
    "empty=[]\n",
    "\n",
    "for m in my_name:\n",
    "    for n in my_name:\n",
    "        empty.append(\n",
    "            (m,n)\n",
    "        )\n",
    "empty"
   ]
  },
  {
   "cell_type": "code",
   "execution_count": 23,
   "id": "8fba58eb",
   "metadata": {},
   "outputs": [
    {
     "data": {
      "text/plain": [
       "'Ahmed'"
      ]
     },
     "execution_count": 23,
     "metadata": {},
     "output_type": "execute_result"
    }
   ],
   "source": [
    "my_name[0]"
   ]
  },
  {
   "cell_type": "code",
   "execution_count": 24,
   "id": "86f89f6e",
   "metadata": {},
   "outputs": [
    {
     "data": {
      "text/plain": [
       "'Italian'"
      ]
     },
     "execution_count": 24,
     "metadata": {},
     "output_type": "execute_result"
    }
   ],
   "source": [
    "foreign_languages = {\n",
    "    'Alice': 'Spanish',\n",
    "    'Bob': 'French',\n",
    "    'Carol': 'Italian',\n",
    "    'Dave': 'Italian',\n",
    "}\n",
    "foreign_languages['Carol']"
   ]
  },
  {
   "cell_type": "code",
   "execution_count": 25,
   "id": "0d403ad6",
   "metadata": {},
   "outputs": [
    {
     "data": {
      "text/plain": [
       "True"
      ]
     },
     "execution_count": 25,
     "metadata": {},
     "output_type": "execute_result"
    }
   ],
   "source": [
    "'Alice' in foreign_languages"
   ]
  },
  {
   "cell_type": "code",
   "execution_count": 26,
   "id": "d6c933dc",
   "metadata": {},
   "outputs": [
    {
     "data": {
      "text/plain": [
       "False"
      ]
     },
     "execution_count": 26,
     "metadata": {},
     "output_type": "execute_result"
    }
   ],
   "source": [
    "'alice' in foreign_languages"
   ]
  },
  {
   "cell_type": "code",
   "execution_count": 27,
   "id": "ff8834b0",
   "metadata": {},
   "outputs": [
    {
     "data": {
      "text/plain": [
       "False"
      ]
     },
     "execution_count": 27,
     "metadata": {},
     "output_type": "execute_result"
    }
   ],
   "source": [
    "'Zeke' in foreign_languages"
   ]
  },
  {
   "cell_type": "code",
   "execution_count": 28,
   "id": "2a25b648",
   "metadata": {},
   "outputs": [
    {
     "data": {
      "text/plain": [
       "{'Alice': 'Spanish',\n",
       " 'Bob': 'French',\n",
       " 'Carol': 'Italian',\n",
       " 'Dave': 'Italian',\n",
       " 'Esther': 'French'}"
      ]
     },
     "execution_count": 28,
     "metadata": {},
     "output_type": "execute_result"
    }
   ],
   "source": [
    "foreign_languages['Esther'] = 'French'\n",
    "foreign_languages"
   ]
  },
  {
   "cell_type": "code",
   "execution_count": 29,
   "id": "f1db15eb",
   "metadata": {},
   "outputs": [
    {
     "data": {
      "text/plain": [
       "{'Alice': 'Spanish', 'Carol': 'Italian', 'Dave': 'Italian', 'Esther': 'French'}"
      ]
     },
     "execution_count": 29,
     "metadata": {},
     "output_type": "execute_result"
    }
   ],
   "source": [
    "del foreign_languages['Bob']\n",
    "foreign_languages"
   ]
  },
  {
   "cell_type": "code",
   "execution_count": 30,
   "id": "b7c6ef00",
   "metadata": {},
   "outputs": [
    {
     "name": "stdout",
     "output_type": "stream",
     "text": [
      "Alice is taking Spanish\n",
      "Carol is taking Italian\n",
      "Dave is taking Italian\n",
      "Esther is taking French\n"
     ]
    }
   ],
   "source": [
    "for key in foreign_languages:\n",
    "    value = foreign_languages[key]\n",
    "    print(key, 'is taking', value)"
   ]
  },
  {
   "cell_type": "code",
   "execution_count": 31,
   "id": "7b61183d",
   "metadata": {},
   "outputs": [
    {
     "name": "stdout",
     "output_type": "stream",
     "text": [
      "Alice is taking Spanish\n",
      "Carol is taking Italian\n",
      "Dave is taking Italian\n",
      "Esther is taking French\n"
     ]
    }
   ],
   "source": [
    "for key, value in foreign_languages.items():\n",
    "    print(key, 'is taking', value)"
   ]
  },
  {
   "cell_type": "code",
   "execution_count": null,
   "id": "0c46543c",
   "metadata": {},
   "outputs": [],
   "source": []
  },
  {
   "cell_type": "code",
   "execution_count": null,
   "id": "8eefcb8b",
   "metadata": {},
   "outputs": [],
   "source": []
  },
  {
   "cell_type": "code",
   "execution_count": null,
   "id": "59bf8b72",
   "metadata": {},
   "outputs": [],
   "source": []
  }
 ],
 "metadata": {
  "kernelspec": {
   "display_name": "Python 3",
   "language": "python",
   "name": "python3"
  },
  "language_info": {
   "codemirror_mode": {
    "name": "ipython",
    "version": 3
   },
   "file_extension": ".py",
   "mimetype": "text/x-python",
   "name": "python",
   "nbconvert_exporter": "python",
   "pygments_lexer": "ipython3",
   "version": "3.8.8"
  }
 },
 "nbformat": 4,
 "nbformat_minor": 5
}
